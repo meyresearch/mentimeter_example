{
 "cells": [
  {
   "cell_type": "markdown",
   "metadata": {
    "slideshow": {
     "slide_type": "slide"
    }
   },
   "source": [
    "# Session 4 - Problem Solving\n",
    "$\\require{mhchem}$\n",
    "*Dr James Cumby\n",
    "(james.cumby@ed.ac.uk)*"
   ]
  },
  {
   "cell_type": "markdown",
   "metadata": {
    "slideshow": {
     "slide_type": "-"
    }
   },
   "source": [
    "<!-- begin no_present -->\n",
    "Programming is almost entirely about problem solving, i.e. how do you take a complex problem and break it down in to manageable steps that a computer can perform. Whilst this is a useful skill for programming and data analysis, it is much more generally applicable, both within your degree and beyond. Importantly, problem solving is a skill that has to be learned, and this session (and course in general) will try to develop this skill.\n",
    "<!-- end no_present -->"
   ]
  },
  {
   "cell_type": "markdown",
   "metadata": {
    "slideshow": {
     "slide_type": "slide"
    }
   },
   "source": [
    "## Learning outcomes\n",
    "By the end of this session, you should be able to:\n",
    "- break a complex problem into smaller steps;\n",
    "- consider how those steps might be implemented as code (developed more later in the course);\n",
    "- use simple tests to check code is working"
   ]
  },
  {
   "cell_type": "markdown",
   "metadata": {
    "slideshow": {
     "slide_type": "slide"
    }
   },
   "source": [
    "# Solving a problem\n",
    "There are a number of steps involved in solving a problem:\n",
    "1. Understand what the problem is and what it is asking for\n",
    "    - Do you have enough information to solve it immediately?\n",
    "2. Understand what the correct solution needs to be capable of (or equally not capable of)\n",
    "3. Work out a series of steps to get from start to finish \n",
    "    - 'Solve the problem'!\n",
    "4. Check that the solution works as expected\n",
    "\n",
    "<!-- begin no_present -->\n",
    "This session will look at these different steps and give you practice in breaking down complex problems.\n",
    "<!-- end no_present -->"
   ]
  },
  {
   "cell_type": "markdown",
   "metadata": {
    "slideshow": {
     "slide_type": "slide"
    }
   },
   "source": [
    "# Import libraries"
   ]
  },
  {
   "cell_type": "code",
   "execution_count": 1,
   "metadata": {
    "slideshow": {
     "slide_type": "fragment"
    }
   },
   "outputs": [],
   "source": [
    "import numpy as np\n",
    "import pandas as pd"
   ]
  },
  {
   "cell_type": "code",
   "execution_count": 2,
   "metadata": {
    "slideshow": {
     "slide_type": "fragment"
    }
   },
   "outputs": [],
   "source": [
    "# Make the helper functions accessible\n",
    "import sys\n",
    "import os.path\n",
    "sys.path.append(os.path.abspath('../'))\n",
    "from helper_modules.mentimeter import Mentimeter\n",
    "from helper_modules.formatting import format_pseudocode"
   ]
  },
  {
   "cell_type": "markdown",
   "metadata": {
    "slideshow": {
     "slide_type": "slide"
    }
   },
   "source": [
    "# Understanding the problem and its solution"
   ]
  },
  {
   "cell_type": "markdown",
   "metadata": {
    "slideshow": {
     "slide_type": "slide"
    }
   },
   "source": [
    "<!-- begin no_present -->\n",
    "Some problems have very clear goals, and once you have got used to them are relatively straighforward to solve, i.e.\n",
    "<!-- end no_present -->\n",
    "<!-- begin tutor -->\n",
    "Some problems are straightforward:\n",
    "<!-- end tutor -->\n",
    "> Find the value of x for which\n",
    ">\n",
    ">$$x - y = 6$$\n",
    "> and\n",
    ">$$2x + y = 18.$$\n",
    "\n",
    "<!-- begin no_present -->\n",
    "Even if a large number of steps are involved, the process is well-defined.\n",
    "<!-- end no_present -->"
   ]
  },
  {
   "cell_type": "markdown",
   "metadata": {
    "slideshow": {
     "slide_type": "slide"
    }
   },
   "source": [
    "<!-- begin no_present -->\n",
    "In contrast, some questions are much less defined, and these are quite challenging to overcome. Sometimes this is due to an uncertain objective, while sometimes there is a shortage of information.\n",
    "<!-- end no_present -->\n",
    "<!-- begin tutor -->\n",
    "Some are less well-defined:\n",
    "<!-- end tutor -->\n",
    "> How would you synthesise 2,3-Dimethyl-2-cyclopenten-1-one from readily-available starting materials?\n",
    "> ![2,3-Dimethyl-2-cyclopenten-1-one structure](./images/dimethyl_2_cyclopenten_1_one.png)\n",
    "(*You'll see this in year 3)"
   ]
  },
  {
   "cell_type": "markdown",
   "metadata": {
    "slideshow": {
     "slide_type": "slide"
    }
   },
   "source": [
    "### Aim(s)\n",
    "<!-- begin no_present -->\n",
    "The first step of any problem is understanding what you are required to do, and working out whether you have all of the information required to solve it. Consider the following question and then vote in the poll below.\n",
    "<!-- begin no_present -->\n",
    "<!-- begin tutor -->\n",
    "First step - determine what the problem is asking!\n",
    "<!-- end tutor -->\n",
    "> Cheese is acidic, due to the presence of lactic acid. When cheese melts it can separate into milk solids and fat; this can be avoided by keeping the pH of the cheese mixture around 5.2. How much citric acid and/or sodium citrate must be added to cheese to prevent it from separating during melting?\n"
   ]
  },
  {
   "cell_type": "code",
   "execution_count": 3,
   "metadata": {
    "slideshow": {
     "slide_type": "slide"
    }
   },
   "outputs": [
    {
     "data": {
      "text/html": [
       "<div style='width:100%; height:40vh;'> <iframe src=https://www.menti.com/inhgqptgjp height=100% width=70%></iframe> </div>"
      ],
      "text/plain": [
       "<IPython.core.display.HTML object>"
      ]
     },
     "execution_count": 3,
     "metadata": {},
     "output_type": "execute_result"
    }
   ],
   "source": [
    "cheese_vote = Mentimeter(vote = 'https://www.menti.com/inhgqptgjp')\n",
    "cheese_vote.show()"
   ]
  },
  {
   "cell_type": "code",
   "execution_count": 4,
   "metadata": {
    "scrolled": false,
    "slideshow": {
     "slide_type": "slide"
    }
   },
   "outputs": [
    {
     "data": {
      "text/html": [
       "<div style='width:100%; height:40vh;'> <iframe src=https://www.mentimeter.com/s/1757297eac993612be259ab788fa7d6e/1260b39d17bb height=100% width=90%></iframe> </div>"
      ],
      "text/plain": [
       "<IPython.core.display.HTML object>"
      ]
     },
     "execution_count": 4,
     "metadata": {},
     "output_type": "execute_result"
    }
   ],
   "source": [
    "### begin tutor\n",
    "cheese_result = Mentimeter(result = 'https://www.mentimeter.com/s/1757297eac993612be259ab788fa7d6e/1260b39d17bb')\n",
    "cheese_result.show()\n",
    "### end tutor"
   ]
  },
  {
   "cell_type": "markdown",
   "metadata": {},
   "source": [
    "<!-- begin answer -->\n",
    "![Cheese vote result](https://static.mentimeter.com/screenshot/1-what-is-the-question-asking-you-to-do.jpg?url=https%3A%2F%2Fwww.mentimeter.com%2Fs%2F1757297eac993612be259ab788fa7d6e%2F1260b39d17bb%2Fpreview&maxage=600&w=1920&h=1080&cache_buster=7)\n",
    "<!-- end answer -->"
   ]
  },
  {
   "cell_type": "markdown",
   "metadata": {
    "slideshow": {
     "slide_type": "slide"
    }
   },
   "source": [
    "### Information\n",
    "<!-- begin no_present -->\n",
    "Once you have determined the objective of a problem, you then need to work out if you have the information and knowledge required to solve it. For instance, the following question has a clear goal, but what additional information is required?\n",
    "<!-- end no_present -->\n",
    "<!-- begin tutor -->\n",
    "What more information is required for the problem? Example:\n",
    "<!-- end tutor -->\n",
    "> If human hair is composed mainly of the protein α-keratin, estimate the rate of incorporation of amino acid units per follicle per second."
   ]
  },
  {
   "cell_type": "code",
   "execution_count": 7,
   "metadata": {
    "slideshow": {
     "slide_type": "-"
    }
   },
   "outputs": [
    {
     "data": {
      "text/html": [
       "<div style='width:100%; height:40vh;'> <iframe src=https://www.menti.com/459ubwoehy height=100% width=70%></iframe> </div>"
      ],
      "text/plain": [
       "<IPython.core.display.HTML object>"
      ]
     },
     "execution_count": 7,
     "metadata": {},
     "output_type": "execute_result"
    }
   ],
   "source": [
    "### begin no_present\n",
    "hair_vote = Mentimeter(vote = 'https://www.menti.com/459ubwoehy')\n",
    "hair_vote.show()\n",
    "### end no_present"
   ]
  },
  {
   "cell_type": "code",
   "execution_count": 8,
   "metadata": {
    "slideshow": {
     "slide_type": "slide"
    }
   },
   "outputs": [
    {
     "data": {
      "text/html": [
       "<div style='width:100%; height:40vh;'> <iframe src=https://www.mentimeter.com/s/73888c0388173454ef53f05bffda5d9e/176aaba0c388 height=100% width=90%></iframe> </div>"
      ],
      "text/plain": [
       "<IPython.core.display.HTML object>"
      ]
     },
     "execution_count": 8,
     "metadata": {},
     "output_type": "execute_result"
    }
   ],
   "source": [
    "### begin tutor\n",
    "hair_res = Mentimeter(result = 'https://www.mentimeter.com/s/73888c0388173454ef53f05bffda5d9e/176aaba0c388')\n",
    "hair_res.show()\n",
    "### end tutor"
   ]
  },
  {
   "cell_type": "markdown",
   "metadata": {},
   "source": [
    "<!-- begin answer -->\n",
    "![Hair growth wordcloud](https://static.mentimeter.com/screenshot/1-what-information-is-required.jpg?url=https%3A%2F%2Fwww.mentimeter.com%2Fs%2F73888c0388173454ef53f05bffda5d9e%2F176aaba0c388%2Fpreview&maxage=600&w=1920&h=1080&cache_buster=7)\n",
    "<!-- end answer -->"
   ]
  },
  {
   "cell_type": "markdown",
   "metadata": {
    "slideshow": {
     "slide_type": "slide"
    }
   },
   "source": [
    "## Task 1\n",
    "In your breakout rooms, discuss the objective for the following questions, and any information you may require.\n",
    "\n",
    "1. If you could imagine an electron to have the same mass as the planet Mercury, which planet would have approximately the same mass as the proton?\n",
    "2. Based purely on standard electrode potentials, which simple binary reaction would give the largest overall potential difference vs the standard hydrogen electrode?\n",
    "3. If you placed a crystal of Tourmaline on top of a crystal of Herapathite and looked through them, what might you observe?"
   ]
  },
  {
   "cell_type": "markdown",
   "metadata": {
    "slideshow": {
     "slide_type": "slide"
    }
   },
   "source": [
    "<!-- begin answer -->\n",
    "## Task 1 Answers\n",
    "1. Need to know the electron : proton mass ratio, and also planet mass ratios <br>\n",
    "    Answer: Saturn (approximately)\n",
    "2. We need a list of electrode potentials, and to combine the most positive and negative values involving one species (to have a binary reaction overall). Other sources exist, but from [wikipedia](https://en.wikipedia.org/wiki/Standard_electrode_potential_(data_page)) the most negative half reaction is \n",
    "   $$\n",
    "   \\ce{Sr^+ + e^- -> Sr(s)}\\qquad E_{\\mathrm{vs\\ SHE}} = -4.101\\ \\mathrm{V}\n",
    "   $$\n",
    "   while the most positive (anionic) half reaction is\n",
    "   $$\n",
    "   \\ce{F2(g) + 2e^- -> 2F^-}\\qquad E_{\\mathrm{vs\\ SHE}} = +2.87\\ \\mathrm{V}\n",
    "   $$\n",
    "   Overall:\n",
    "   $$\n",
    "   \\ce{Sr + F2 -> SrF2}\\qquad E_{\\mathrm{vs\\ SHE}} = +6.971\\ \\mathrm{V}\n",
    "   $$\n",
    "3. Tourmaline (a borosilicate mineral) and herapathite (iodoquinine sulfate) are both optically active; the latter is used in optical polarizers. Depending on the relative orientation of the crystals, the colour and/or transparency is likely to change.\n",
    "<!-- end answer -->"
   ]
  },
  {
   "cell_type": "markdown",
   "metadata": {
    "slideshow": {
     "slide_type": "slide"
    }
   },
   "source": [
    "# Constructing an algorithm"
   ]
  },
  {
   "cell_type": "markdown",
   "metadata": {
    "slideshow": {
     "slide_type": "fragment"
    }
   },
   "source": [
    "<!-- begin no_present -->\n",
    "Once you have determined the problem and have all the information required, you then need to construct an algorithm (sequence of steps) to get to the answer. \n",
    "\n",
    "It is important to appreciate sometimes there are multiple valid solutions to a problem; try to appreciate other approaches, but find one that you understand.\n",
    "\n",
    "As a simple example, in your head work out the answer to\n",
    "<!-- end no_present -->\n",
    "<!-- begin tutor -->\n",
    "Problems can be solved many ways. Try this:\n",
    "<!-- end tutor -->\n",
    "$$\n",
    "54 + 17\n",
    "$$\n"
   ]
  },
  {
   "cell_type": "markdown",
   "metadata": {
    "slideshow": {
     "slide_type": "slide"
    }
   },
   "source": [
    "How did you do it?\n",
    "- $50 + 10 = 60$, then $60 + 4 + 7 = 71$\n",
    "- $54 + 10 = 64$, then $64 + 7 = 71$\n",
    "- $50 + 17 = 67$, then $67 + 4 = 71$\n",
    "- Something else...?"
   ]
  },
  {
   "cell_type": "markdown",
   "metadata": {
    "slideshow": {
     "slide_type": "slide"
    }
   },
   "source": [
    "<!-- begin no_present -->\n",
    "Sometimes you will clearly know what sequence of steps to use, but often (and particularly in programming) reaching the correct solution is iterative - try one approach, and based on the results you get try to modify it.\n",
    "\n",
    "You already know how to do this, for instance in assigning NMR patterns; sometimes the solution (or parts of it) are known by some prior knowledge (e.g. chemical shift of a methyl group), but sometimes you have to piece together different bits of information, and test out different solutions.\n",
    "<!-- end no_present -->\n",
    "<!-- begin tutor -->\n",
    "- Programming is often iterative\n",
    "    - ...try one way, find bugs, try again...\n",
    "    \n",
    "- You do this already, for instance with assigning <sup>1</sup>H NMR spectra:\n",
    "<!-- end tutor -->"
   ]
  },
  {
   "cell_type": "markdown",
   "metadata": {
    "slideshow": {
     "slide_type": "fragment"
    }
   },
   "source": [
    "![1,2,4-trichlorobenzene](./images/trichlorobenzene_NMR.png)"
   ]
  },
  {
   "cell_type": "markdown",
   "metadata": {
    "slideshow": {
     "slide_type": "slide"
    }
   },
   "source": [
    "<!-- begin tutor -->\n",
    "![1,2,4-trichlorobenzene](./images/trichlorobenzene_NMR.png)\n",
    "<!-- end tutor -->"
   ]
  },
  {
   "cell_type": "markdown",
   "metadata": {
    "slideshow": {
     "slide_type": "fragment"
    }
   },
   "source": [
    "## My assignment process\n",
    "\n",
    "<!-- begin livecode -->\n",
    "Look at each proton in turn, and suggest splittings:\n",
    "- 3: ~~s~~ or **d**\n",
    "- 5: d or dd\n",
    "- 6: d\n",
    "\n",
    "Assign unique splittings in the spectra:\n",
    "- 5: **dd** (c)\n",
    "\n",
    "Compare couplings:\n",
    "- 6-5 >> 3-5\n",
    "    - 3: **d** (a)\n",
    "    - 6: **d** (b)\n",
    "<!-- end livecode -->"
   ]
  },
  {
   "cell_type": "markdown",
   "metadata": {
    "slideshow": {
     "slide_type": "slide"
    }
   },
   "source": [
    "<!-- begin no_present -->\n",
    "Alternatively, you can write 'pseudocode' as a way to express what an algorithm does, without worrying about details of the specific programming language (or potentially even how steps are actually performed).\n",
    "<!-- end no_present -->\n",
    "<!-- begin tutor -->\n",
    "We can write this as 'pseudocode', ignoring technical details:\n",
    "<!-- end tutor -->"
   ]
  },
  {
   "cell_type": "markdown",
   "metadata": {
    "slideshow": {
     "slide_type": "fragment"
    }
   },
   "source": [
    "<!-- begin livecode -->\n",
    "```\n",
    "FOR each proton environment:\n",
    "    Predict possible splitting pattern(s) for proton\n",
    "    \n",
    "    REMOVE splitting patterns not in spectrum\n",
    "    IF peak can be uniquely assigned by expected chemical shift:\n",
    "        Assign\n",
    "    IF peak can be uniquely assigned by integrated area:\n",
    "        Assign\n",
    "    IF splitting pattern is unique and exists in spectrum:\n",
    "        Assign\n",
    "   \n",
    "    IF proton is not assigned:\n",
    "        STORE possible splittings\n",
    "        # e.g. H1 : [d, dd]\n",
    "        #      H2 : [d, t]\n",
    "        #      ...\n",
    "               \n",
    "FOR groups of equivalent splittings:\n",
    "    # e.g. all the doublets\n",
    "    IF coupling constants are obviously different:\n",
    "        Assign\n",
    "        \n",
    "```\n",
    "<!-- end livecode -->"
   ]
  },
  {
   "cell_type": "markdown",
   "metadata": {
    "slideshow": {
     "slide_type": "slide"
    }
   },
   "source": [
    "## Worked example - finding alcohols\n",
    "If you were given 1000 random Infrared spectra from small molecules, how could you determine which ones were alcohols?"
   ]
  },
  {
   "cell_type": "code",
   "execution_count": 9,
   "metadata": {
    "slideshow": {
     "slide_type": "-"
    }
   },
   "outputs": [
    {
     "data": {
      "text/html": [
       "<div style='width:100%; height:40vh;'> <iframe src=https://www.menti.com/f47ebjqjh3 height=100% width=70%></iframe> </div>"
      ],
      "text/plain": [
       "<IPython.core.display.HTML object>"
      ]
     },
     "execution_count": 9,
     "metadata": {},
     "output_type": "execute_result"
    }
   ],
   "source": [
    "### begin no_present\n",
    "alcohol_vote = Mentimeter(vote = 'https://www.menti.com/f47ebjqjh3')\n",
    "alcohol_vote.show()\n",
    "### end no_present"
   ]
  },
  {
   "cell_type": "code",
   "execution_count": 11,
   "metadata": {
    "slideshow": {
     "slide_type": "fragment"
    }
   },
   "outputs": [
    {
     "data": {
      "text/html": [
       "<div style='width:100%; height:40vh;'> <iframe src=https://www.mentimeter.com/s/85be1ce424071fc159ecee7f0fa90cb1/4868b2918b6d height=100% width=90%></iframe> </div>"
      ],
      "text/plain": [
       "<IPython.core.display.HTML object>"
      ]
     },
     "execution_count": 11,
     "metadata": {},
     "output_type": "execute_result"
    }
   ],
   "source": [
    "### begin tutor\n",
    "alcohol_result = Mentimeter(result = 'https://www.mentimeter.com/s/85be1ce424071fc159ecee7f0fa90cb1/4868b2918b6d')\n",
    "alcohol_result.show()\n",
    "### end tutor"
   ]
  },
  {
   "cell_type": "markdown",
   "metadata": {},
   "source": [
    "<!-- begin answer -->\n",
    "![IR alcohol word cloud](https://static.mentimeter.com/screenshot/1-what-information-do-we-need.jpg?url=https%3A%2F%2Fwww.mentimeter.com%2Fs%2F85be1ce424071fc159ecee7f0fa90cb1%2F4868b2918b6d%2Fpreview&maxage=600&w=1920&h=1080&cache_buster=7)\n",
    "<!-- end answer -->"
   ]
  },
  {
   "cell_type": "markdown",
   "metadata": {
    "slideshow": {
     "slide_type": "subslide"
    }
   },
   "source": [
    "<!-- begin answer -->\n",
    "![IR Absorbance Chart](./images/IR_absorptions.jpg)\n",
    "<!-- end answer -->"
   ]
  },
  {
   "cell_type": "markdown",
   "metadata": {
    "slideshow": {
     "slide_type": "subslide"
    }
   },
   "source": [
    "<!-- begin livecode -->\n",
    "```\n",
    "FOR each spectrum:\n",
    "    Find absorption for $2600 < \\nu < 3500$\n",
    "    IF absorption > threshold:\n",
    "        assign as alcohol\n",
    "```\n",
    "<!-- end livecode -->"
   ]
  },
  {
   "cell_type": "code",
   "execution_count": 12,
   "metadata": {
    "slideshow": {
     "slide_type": "slide"
    }
   },
   "outputs": [
    {
     "data": {
      "text/html": [
       "<div style='width:100%; height:40vh;'> <iframe src=https://www.menti.com/aoz8bwsooh height=100% width=70%></iframe> </div>"
      ],
      "text/plain": [
       "<IPython.core.display.HTML object>"
      ]
     },
     "execution_count": 12,
     "metadata": {},
     "output_type": "execute_result"
    }
   ],
   "source": [
    "Mentimeter(vote = 'https://www.menti.com/aoz8bwsooh').show()"
   ]
  },
  {
   "cell_type": "code",
   "execution_count": 13,
   "metadata": {
    "slideshow": {
     "slide_type": "subslide"
    }
   },
   "outputs": [
    {
     "data": {
      "text/html": [
       "<div style='width:100%; height:40vh;'> <iframe src=https://www.mentimeter.com/s/caff9221a71d59127e5c34c264f04891/81e5b12fe18d height=100% width=90%></iframe> </div>"
      ],
      "text/plain": [
       "<IPython.core.display.HTML object>"
      ]
     },
     "execution_count": 13,
     "metadata": {},
     "output_type": "execute_result"
    }
   ],
   "source": [
    "### begin tutor\n",
    "Mentimeter(result = 'https://www.mentimeter.com/s/caff9221a71d59127e5c34c264f04891/81e5b12fe18d').show()\n",
    "### end tutor"
   ]
  },
  {
   "cell_type": "markdown",
   "metadata": {},
   "source": [
    "<!-- begin answer -->\n",
    "![IR problems suggestions](https://static.mentimeter.com/screenshot/1-are-there-any-problems-with-this-1.jpg?url=https%3A%2F%2Fwww.mentimeter.com%2Fs%2Fcaff9221a71d59127e5c34c264f04891%2F81e5b12fe18d%2Fpreview%3Fp%3D0&maxage=600&w=1920&h=1080&cache_buster=7)\n",
    "<!-- end answer -->"
   ]
  },
  {
   "cell_type": "markdown",
   "metadata": {
    "slideshow": {
     "slide_type": "slide"
    }
   },
   "source": [
    "<!-- begin answer -->\n",
    "### Potential problems\n",
    "Background signal is not guaranteed to be ~100% T:\n",
    "![Comparison of IR background absorption](./images/IR_background_comparison.jpg)\n",
    "<!-- end answer -->"
   ]
  },
  {
   "cell_type": "markdown",
   "metadata": {
    "slideshow": {
     "slide_type": "subslide"
    }
   },
   "source": [
    "```\n",
    "FOR each spectrum:\n",
    "    Find absorption for $2600 < \\nu < 3500$\n",
    "<!-- begin livecode -->\n",
    "    fit background\n",
    "    IF absorption - background > threshold:\n",
    "<!-- end livecode -->\n",
    "        assign as alcohol\n",
    "```"
   ]
  },
  {
   "cell_type": "markdown",
   "metadata": {
    "slideshow": {
     "slide_type": "slide"
    }
   },
   "source": [
    "<!-- begin answer -->\n",
    "The OH-stretching region is not unique:\n",
    "![Benzene vs benzoic acid IR](./images/benzene_IR.png)\n",
    "\n",
    "One solution could be to examine the peak width\n",
    "<!-- end answer -->"
   ]
  },
  {
   "cell_type": "markdown",
   "metadata": {
    "slideshow": {
     "slide_type": "subslide"
    }
   },
   "source": [
    "```\n",
    "FOR each spectrum:\n",
    "    Find absorption for $2600 < \\nu < 3500$\n",
    "<!-- begin livecode -->\n",
    "    fit background\n",
    "    IF absorption - background > threshold:\n",
    "        If peak breadth > width_threshold:\n",
    "<!-- end livecode -->\n",
    "            assign as alcohol\n",
    "```"
   ]
  },
  {
   "cell_type": "markdown",
   "metadata": {
    "slideshow": {
     "slide_type": "slide"
    }
   },
   "source": [
    "# Task 2\n",
    "In your breakout rooms, discuss the following problems:\n",
    "\n",
    "## Task 2a\n",
    "\n",
    "Some reactions can be monitored in-situ by NMR spectroscopy, by following the growth of a new NMR peak with time. For such a reaction, what order would you need to perform the following steps in order to plot a concentration vs time profile?"
   ]
  },
  {
   "cell_type": "code",
   "execution_count": 14,
   "metadata": {
    "slideshow": {
     "slide_type": "slide"
    }
   },
   "outputs": [
    {
     "name": "stdout",
     "output_type": "stream",
     "text": [
      "\n"
     ]
    }
   ],
   "source": [
    "NMR_processes = {\n",
    "    'a': 'read in NMR data file(s)',\n",
    "    'b': 'fit NMR peak of interest',\n",
    "    'c': 'FOR each NMR spectrum:',\n",
    "    'd': 'plot concentration vs time',\n",
    "    'e': 'convert area to concentration.',\n",
    "    'f': 'extract time from NMR file',\n",
    "    'g': 'extract peak area',\n",
    "}\n",
    "\n",
    "# Fill in the correct order as something like ['b','d','a', ...]\n",
    "NMR_order = []\n",
    "\n",
    "print(format_pseudocode(NMR_processes, NMR_order))"
   ]
  },
  {
   "cell_type": "code",
   "execution_count": 15,
   "metadata": {
    "slideshow": {
     "slide_type": "subslide"
    }
   },
   "outputs": [
    {
     "name": "stdout",
     "output_type": "stream",
     "text": [
      "FOR each NMR spectrum:\n",
      "    read in NMR data file(s)\n",
      "    extract time from NMR file\n",
      "    fit NMR peak of interest\n",
      "    extract peak area\n",
      "    convert area to concentration.\n",
      "plot concentration vs time\n",
      "\n"
     ]
    }
   ],
   "source": [
    "### begin answer\n",
    "NMR_correct_order = ['c','a','f','b','g','e','d']\n",
    "\n",
    "print(format_pseudocode(NMR_processes, NMR_correct_order))\n",
    "### end answer"
   ]
  },
  {
   "cell_type": "markdown",
   "metadata": {
    "slideshow": {
     "slide_type": "slide"
    }
   },
   "source": [
    "## Task 2b\n",
    "If you were given a sequence of atomic coordinates during a reaction that were for some reason in the wrong order, how might you try to put them back in the correct sequence? For example, consider the sequence of five steps from an S<sub>N</sub>2 reaction shown below (imagining you had the atomic coordinates):\n",
    "\n",
    "![SN2 Reaction steps](./images/SN2_reaction_steps.png)\n",
    "\n",
    "> Hint: If you know how far each atom must move to get to a different step, the next step along the S<sub>N</sub>2 reaction will be the one with the smallest (total) distance"
   ]
  },
  {
   "cell_type": "code",
   "execution_count": 16,
   "metadata": {
    "slideshow": {
     "slide_type": "fragment"
    }
   },
   "outputs": [
    {
     "name": "stdout",
     "output_type": "stream",
     "text": [
      "\n"
     ]
    }
   ],
   "source": [
    "possible_steps = {\n",
    "'a' : 'LOOP continuously:',    \n",
    "'b' : 'FOR each pair of structures:',\n",
    "'c' : 'Find minimum distance from current step', \n",
    "'d' : 'IF next in sequence is the end point:',\n",
    "'e' : 'IF not already part of sequence:',    \n",
    "'f' : 'Assign largest distance as that between start/end points',    \n",
    "'g' : 'Determine (summed) distance between equivalent pairs of atoms (e.g. O-O, Br-Br etc).',\n",
    "'h' : 'Assign to sequence.',\n",
    "'i' : 'Change `current` step to next in sequence',    \n",
    "'j' : 'Use starting point as `current` step',\n",
    "'k' : 'STOP - problem complete.',  \n",
    "}\n",
    "\n",
    "order = []\n",
    "\n",
    "print(format_pseudocode(possible_steps, order))"
   ]
  },
  {
   "cell_type": "code",
   "execution_count": 17,
   "metadata": {
    "slideshow": {
     "slide_type": "subslide"
    }
   },
   "outputs": [
    {
     "name": "stdout",
     "output_type": "stream",
     "text": [
      "FOR each pair of structures:\n",
      "    Determine (summed) distance between equivalent pairs of atoms (e.g. O-O, Br-Br etc).\n",
      "Assign largest distance as that between start/end points\n",
      "Use starting point as `current` step\n",
      "LOOP continuously:\n",
      "    Find minimum distance from current step\n",
      "    IF not already part of sequence:\n",
      "        Assign to sequence.\n",
      "    IF next in sequence is the end point:\n",
      "        STOP - problem complete.\n",
      "    Change `current` step to next in sequence\n",
      "\n"
     ]
    }
   ],
   "source": [
    "### begin answer\n",
    "order = ['b','g','f','j','a','c','e','h','d','k','i']\n",
    "print(format_pseudocode(possible_steps, order))\n",
    "### end answer "
   ]
  },
  {
   "cell_type": "markdown",
   "metadata": {},
   "source": [
    "## Advanced task\n",
    "- How might you determine the molecular weight from an arbitrary chemical formula, e.g. (CH3)3CBr or CH3C(O)CN?"
   ]
  },
  {
   "cell_type": "markdown",
   "metadata": {
    "slideshow": {
     "slide_type": "slide"
    }
   },
   "source": [
    "# Know your limitations!"
   ]
  },
  {
   "cell_type": "markdown",
   "metadata": {
    "slideshow": {
     "slide_type": "fragment"
    }
   },
   "source": [
    "<!-- begin no_present -->\n",
    "Often, a problem will only require you to work for certain data, or perhaps in specific situations. Importantly, you should try to know what these limitations are, and make it explicit within your code (e.g. through comments or documentation).\n",
    "\n",
    "Taking the IR example above, perhaps we know that all of our data were collected on one instrument with a very low background signal; in that case we don't need to worry about the background signal.\n",
    "Alternatively, maybe some of our IR data were measured between 500 cm<sup>-1</sup> and 2200 cm<sup>-1</sup> by mistake; in that case we cannot measure the peak between 2600 cm<sup>-1</sup> and 3500 cm<sup>-1</sup>; our code should detect this and produce an appropriate warning/error (depending on whether it should halt the analysis).\n",
    "<!-- end no_present -->\n",
    "<!-- begin tutor -->\n",
    "Code doesn't have to work for all input, but limits should be known. For example:\n",
    "\n",
    "- Specific data format\n",
    "- Values should obey certain limits (e.g. wavelength range for IR)\n",
    "- Data come from instrument with well-known characteristics\n",
    "\n",
    "These limits should be checked, and either produce a warning or error.\n",
    "<!-- end tutor -->"
   ]
  },
  {
   "cell_type": "markdown",
   "metadata": {
    "slideshow": {
     "slide_type": "slide"
    }
   },
   "source": [
    "<!-- begin no_present -->\n",
    "Using functions makes it easier to know (and enforce) the limitations of a piece of code. \n",
    "<!-- end no_present -->\n",
    "In general:\n",
    "> A function should do one thing, and do it well.\n",
    "\n",
    "<!-- begin no_present -->\n",
    "As we've seen above, when you construct an algorithm you break it down into a series of steps. Often, each of these steps is the 'one thing'. \n",
    "<!-- end no_present -->\n",
    "<!-- begin tutor -->\n",
    "Each algorithm step is a 'thing'.\n",
    "<!-- end tutor -->\n",
    "Going back to the NMR/concentration example:"
   ]
  },
  {
   "cell_type": "code",
   "execution_count": 18,
   "metadata": {
    "slideshow": {
     "slide_type": "fragment"
    }
   },
   "outputs": [
    {
     "name": "stdout",
     "output_type": "stream",
     "text": [
      "FOR each NMR spectrum:\n",
      "    read in NMR data file(s)\n",
      "    extract time from NMR file\n",
      "    fit NMR peak of interest\n",
      "    extract peak area\n",
      "    convert area to concentration.\n",
      "plot concentration vs time\n",
      "\n"
     ]
    }
   ],
   "source": [
    "print(format_pseudocode(NMR_processes, NMR_correct_order))"
   ]
  },
  {
   "cell_type": "markdown",
   "metadata": {
    "slideshow": {
     "slide_type": "subslide"
    }
   },
   "source": [
    "<!-- begin no_present -->\n",
    "Step (2) is an example of a 'single' task; take an NMR data file, read it in to memory and return the values in a predefined format (e.g. a Pandas DataFrame or lists of values). Then, every time your code needs to read in a file it can call this function using the filename, without worrying about how it does this. \n",
    "<!-- end no_present -->\n",
    "<!-- begin tutor -->\n",
    "`read in NMR data file(s)` is a single task: read a file and return its contents.\n",
    "<!-- end tutor -->\n",
    "\n",
    "``` python\n",
    "def read_NMR_file(filename):\n",
    "    \"\"\" Read an NMR file and return the result as lists of ppm and intensity\"\"\"\n",
    "    \n",
    "    # Some code to check and read file\n",
    "    # ...\n",
    "    return ppm, intensity\n",
    "\n",
    "# Main program here:\n",
    "for file in [list of NMR names]:\n",
    "    ppm_data, intensity_data = read_NMR_file(file)\n",
    "    ...\n",
    "```"
   ]
  },
  {
   "cell_type": "markdown",
   "metadata": {
    "slideshow": {
     "slide_type": "slide"
    }
   },
   "source": [
    "<!-- begin no_present -->\n",
    "This principal of 'modular' coding means that you can easily adjust and reuse things. If, for example, you needed to read NMR data in two different formats (e.g. from different instruments) you would just need to modify the `read_NMR_file` function, rather than your main code. You could also use the same function elsewhere, for instance if you wanted to find the position of the maximum peak.\n",
    "<!-- end no_present -->\n",
    "<!-- begin tutor -->\n",
    "'Modular' coding allows you to adjust and reuse code:\n",
    "- To analyse NMR files in different formats, we ONLY need modify `read_NMR_file`\n",
    "- We can use `read_NMR_file` anywhere we need to load NMR data\n",
    "<!-- end tutor -->"
   ]
  },
  {
   "cell_type": "markdown",
   "metadata": {
    "slideshow": {
     "slide_type": "slide"
    }
   },
   "source": [
    "<!-- begin no_present -->\n",
    "Importantly, `read_NMR_file` should have defined limits. If the file name supplied does not exist (e.g. a typo) then the `read_NMR_file` function cannot return anything: in this case, it should halt the entire program with a suitable error message.[<sup>1</sup>](#fn_exception)<span id=rt_exception></span> Generally speaking, any situation that will stop other parts of a program from working should result in an error message.\n",
    "\n",
    "Sometimes, the situation is likely to give unexpected results, but the code is working as it should. For the NMR example, this could be a data file that contains no values. In this case, `read_NMR_file` could return empty lists, exactly as the docstring would suggest (i.e. the 'result' is nothing) but another part of the program might expect some numbers to be returned. In this case, a better option might be to print a warning while reading the file, but to continue. This warning would alert the user so that they could e.g. check the data file is correct.\n",
    "<!-- end no_present -->\n",
    "<!-- begin tutor -->\n",
    "`read_NMR_file` must know its limits.\n",
    "\n",
    "Sometimes it is better to stop completely (e.g. missing data file)\n",
    "\n",
    "Other times it is better to warn the user (e.g. empty data file)\n",
    "<!-- end tutor -->"
   ]
  },
  {
   "cell_type": "code",
   "execution_count": 19,
   "metadata": {
    "slideshow": {
     "slide_type": "slide"
    }
   },
   "outputs": [
    {
     "data": {
      "text/html": [
       "<div style='width:100%; height:40vh;'> <iframe src=https://www.menti.com/gqrdznr31u height=100% width=70%></iframe> </div>"
      ],
      "text/plain": [
       "<IPython.core.display.HTML object>"
      ]
     },
     "execution_count": 19,
     "metadata": {},
     "output_type": "execute_result"
    }
   ],
   "source": [
    "Mentimeter(vote = 'https://www.menti.com/gqrdznr31u').show()"
   ]
  },
  {
   "cell_type": "code",
   "execution_count": 20,
   "metadata": {
    "slideshow": {
     "slide_type": "subslide"
    }
   },
   "outputs": [
    {
     "data": {
      "text/html": [
       "<div style='width:100%; height:40vh;'> <iframe src=https://www.mentimeter.com/s/92367888ec8be99400c57b0688b790be/fe0a7a140dcc height=100% width=90%></iframe> </div>"
      ],
      "text/plain": [
       "<IPython.core.display.HTML object>"
      ]
     },
     "execution_count": 20,
     "metadata": {},
     "output_type": "execute_result"
    }
   ],
   "source": [
    "### begin tutor\n",
    "Mentimeter(result = 'https://www.mentimeter.com/s/92367888ec8be99400c57b0688b790be/fe0a7a140dcc').show()\n",
    "### end tutor"
   ]
  },
  {
   "cell_type": "markdown",
   "metadata": {},
   "source": [
    "<!-- begin answer -->\n",
    "![Error vs warning vote results](https://static.mentimeter.com/screenshot/1-what-should-happen-during-the-following.jpg?url=https%3A%2F%2Fwww.mentimeter.com%2Fs%2F92367888ec8be99400c57b0688b790be%2Ffe0a7a140dcc%2Fpreview&maxage=600&w=1920&h=1080&cache_buster=7)\n",
    "<!-- end answer -->"
   ]
  },
  {
   "cell_type": "markdown",
   "metadata": {
    "slideshow": {
     "slide_type": "subslide"
    }
   },
   "source": [
    "Knowing when to raise an error or print a warning is not always well-defined, and often depends on how the program is being used. Sometimes, you only see the problems with a piece of code when you try to use it!"
   ]
  },
  {
   "cell_type": "markdown",
   "metadata": {
    "slideshow": {
     "slide_type": "slide"
    }
   },
   "source": [
    "# Testing things work"
   ]
  },
  {
   "cell_type": "markdown",
   "metadata": {
    "slideshow": {
     "slide_type": "fragment"
    }
   },
   "source": [
    "<!-- begin no_present -->\n",
    "To check that your code is working as expected and that it is not giving incorrect results, it is a good idea to add 'tests'. There are lots of different ways to do this in Python, but for this course we will cover the simplest: assertions.[<sup>2</sup>](#fn_assertions)<span id=rt_assertions></span>\n",
    "\n",
    "An assert statement simply checks whether something is True: if not, the program will stop with an `AssertionError`. To put assertions within your code, the syntax is\n",
    "<!-- end no_present -->\n",
    "<!-- begin tutor -->\n",
    "Tests check code works as expected.\n",
    "We'll focus on using assertions:\n",
    "<!-- end tutor -->\n",
    "```python\n",
    "assert condition\n",
    "```\n",
    "where `condition` is something like `value == 1`, `my_string == 'test_string'` or `value_a > value_b`."
   ]
  },
  {
   "cell_type": "code",
   "execution_count": 21,
   "metadata": {
    "slideshow": {
     "slide_type": "slide"
    }
   },
   "outputs": [
    {
     "ename": "AssertionError",
     "evalue": "",
     "output_type": "error",
     "traceback": [
      "\u001b[1;31m---------------------------------------------------------------------------\u001b[0m",
      "\u001b[1;31mAssertionError\u001b[0m                            Traceback (most recent call last)",
      "\u001b[1;32m<ipython-input-21-d04b775724c7>\u001b[0m in \u001b[0;36m<module>\u001b[1;34m\u001b[0m\n\u001b[0;32m      9\u001b[0m \u001b[1;32massert\u001b[0m \u001b[0mx\u001b[0m \u001b[1;33m<\u001b[0m \u001b[0my\u001b[0m\u001b[1;33m\u001b[0m\u001b[1;33m\u001b[0m\u001b[0m\n\u001b[0;32m     10\u001b[0m \u001b[1;33m\u001b[0m\u001b[0m\n\u001b[1;32m---> 11\u001b[1;33m \u001b[1;32massert\u001b[0m \u001b[0mx\u001b[0m\u001b[1;33m+\u001b[0m\u001b[1;36m1\u001b[0m \u001b[1;33m>\u001b[0m \u001b[0my\u001b[0m\u001b[1;33m\u001b[0m\u001b[1;33m\u001b[0m\u001b[0m\n\u001b[0m\u001b[0;32m     12\u001b[0m \u001b[1;33m\u001b[0m\u001b[0m\n\u001b[0;32m     13\u001b[0m \u001b[1;31m### end livecode\u001b[0m\u001b[1;33m\u001b[0m\u001b[1;33m\u001b[0m\u001b[1;33m\u001b[0m\u001b[0m\n",
      "\u001b[1;31mAssertionError\u001b[0m: "
     ]
    }
   ],
   "source": [
    "### begin livecode\n",
    "assert True\n",
    "\n",
    "x = 1\n",
    "y = 2.6\n",
    "\n",
    "assert 1 == 1\n",
    "\n",
    "assert x < y\n",
    "\n",
    "assert x+1 > y\n",
    "\n",
    "### end livecode"
   ]
  },
  {
   "cell_type": "markdown",
   "metadata": {
    "slideshow": {
     "slide_type": "slide"
    }
   },
   "source": [
    "<!-- begin no_present -->\n",
    "To make things more clear, it is good to supply a message with the assertion for if it fails, separated by a comma from the condition:\n",
    "<!-- end no_present -->\n",
    "<!-- begin tutor -->\n",
    "Assertions can also have a custom message:\n",
    "<!-- end tutor -->"
   ]
  },
  {
   "cell_type": "code",
   "execution_count": 22,
   "metadata": {
    "slideshow": {
     "slide_type": "fragment"
    }
   },
   "outputs": [
    {
     "ename": "AssertionError",
     "evalue": "animal must be a string variable",
     "output_type": "error",
     "traceback": [
      "\u001b[1;31m---------------------------------------------------------------------------\u001b[0m",
      "\u001b[1;31mAssertionError\u001b[0m                            Traceback (most recent call last)",
      "\u001b[1;32m<ipython-input-22-efffc2aa593f>\u001b[0m in \u001b[0;36m<module>\u001b[1;34m\u001b[0m\n\u001b[0;32m      1\u001b[0m \u001b[1;31m### begin livecode\u001b[0m\u001b[1;33m\u001b[0m\u001b[1;33m\u001b[0m\u001b[1;33m\u001b[0m\u001b[0m\n\u001b[0;32m      2\u001b[0m \u001b[0manimal\u001b[0m \u001b[1;33m=\u001b[0m \u001b[1;34m'fish'\u001b[0m\u001b[1;33m\u001b[0m\u001b[1;33m\u001b[0m\u001b[0m\n\u001b[1;32m----> 3\u001b[1;33m \u001b[1;32massert\u001b[0m \u001b[0mtype\u001b[0m\u001b[1;33m(\u001b[0m\u001b[0manimal\u001b[0m\u001b[1;33m)\u001b[0m \u001b[1;32mis\u001b[0m \u001b[0mlist\u001b[0m\u001b[1;33m,\u001b[0m \u001b[1;34m\"animal must be a string variable\"\u001b[0m\u001b[1;33m\u001b[0m\u001b[1;33m\u001b[0m\u001b[0m\n\u001b[0m\u001b[0;32m      4\u001b[0m \u001b[1;31m### end livecode\u001b[0m\u001b[1;33m\u001b[0m\u001b[1;33m\u001b[0m\u001b[1;33m\u001b[0m\u001b[0m\n",
      "\u001b[1;31mAssertionError\u001b[0m: animal must be a string variable"
     ]
    }
   ],
   "source": [
    "### begin livecode\n",
    "animal = 'fish'\n",
    "assert type(animal) is list, \"animal must be a string variable\"\n",
    "### end livecode"
   ]
  },
  {
   "cell_type": "markdown",
   "metadata": {
    "slideshow": {
     "slide_type": "slide"
    }
   },
   "source": [
    "Note that assert statements can also use multiple conditions at once by combining them with boolean (and, or...) statements:"
   ]
  },
  {
   "cell_type": "code",
   "execution_count": 23,
   "metadata": {},
   "outputs": [
    {
     "name": "stdout",
     "output_type": "stream",
     "text": [
      "a equals 5: True\n",
      "b is less than 4: False\n"
     ]
    },
    {
     "ename": "AssertionError",
     "evalue": "Both conditions are false",
     "output_type": "error",
     "traceback": [
      "\u001b[1;31m---------------------------------------------------------------------------\u001b[0m",
      "\u001b[1;31mAssertionError\u001b[0m                            Traceback (most recent call last)",
      "\u001b[1;32m<ipython-input-23-4f6440512c42>\u001b[0m in \u001b[0;36m<module>\u001b[1;34m\u001b[0m\n\u001b[0;32m      6\u001b[0m \u001b[0mprint\u001b[0m\u001b[1;33m(\u001b[0m\u001b[1;34m'b is less than 4:'\u001b[0m\u001b[1;33m,\u001b[0m \u001b[0mb\u001b[0m \u001b[1;33m<\u001b[0m \u001b[1;36m4\u001b[0m\u001b[1;33m)\u001b[0m\u001b[1;33m\u001b[0m\u001b[1;33m\u001b[0m\u001b[0m\n\u001b[0;32m      7\u001b[0m \u001b[1;33m\u001b[0m\u001b[0m\n\u001b[1;32m----> 8\u001b[1;33m \u001b[1;32massert\u001b[0m \u001b[1;33m(\u001b[0m\u001b[0ma\u001b[0m \u001b[1;33m==\u001b[0m \u001b[1;36m5\u001b[0m\u001b[1;33m)\u001b[0m \u001b[1;32mand\u001b[0m \u001b[1;33m(\u001b[0m\u001b[0mb\u001b[0m \u001b[1;33m<\u001b[0m \u001b[1;36m4\u001b[0m\u001b[1;33m)\u001b[0m\u001b[1;33m,\u001b[0m \u001b[1;34m\"Both conditions are false\"\u001b[0m\u001b[1;33m\u001b[0m\u001b[1;33m\u001b[0m\u001b[0m\n\u001b[0m\u001b[0;32m      9\u001b[0m \u001b[1;31m### end livecode\u001b[0m\u001b[1;33m\u001b[0m\u001b[1;33m\u001b[0m\u001b[1;33m\u001b[0m\u001b[0m\n",
      "\u001b[1;31mAssertionError\u001b[0m: Both conditions are false"
     ]
    }
   ],
   "source": [
    "### begin livecode\n",
    "a = 5\n",
    "b = 7\n",
    "\n",
    "print('a equals 5:', a == 5)\n",
    "print('b is less than 4:', b < 4)\n",
    "\n",
    "assert (a == 5) and (b < 4), \"Both conditions are false\"\n",
    "### end livecode"
   ]
  },
  {
   "cell_type": "markdown",
   "metadata": {
    "slideshow": {
     "slide_type": "slide"
    }
   },
   "source": [
    "# Tasks 3"
   ]
  },
  {
   "cell_type": "markdown",
   "metadata": {
    "slideshow": {
     "slide_type": "slide"
    }
   },
   "source": [
    "1. Create a function adds a '.txt' extension to a file name and returns the result. Ensure that the returned filename cannot simply be `.txt`."
   ]
  },
  {
   "cell_type": "code",
   "execution_count": 24,
   "metadata": {
    "slideshow": {
     "slide_type": "subslide"
    }
   },
   "outputs": [],
   "source": [
    "### begin answer\n",
    "def create_txt(basename):\n",
    "    \"\"\" Add a .txt extension to the supplied name. \"\"\"\n",
    "    \n",
    "    assert len(basename) > 0\n",
    "    \n",
    "    return basename + '.txt'\n",
    "### end answer"
   ]
  },
  {
   "cell_type": "markdown",
   "metadata": {
    "slideshow": {
     "slide_type": "slide"
    }
   },
   "source": [
    "2. Write a function that receives two integer parameters and returns their sum. Use assertion statements to enforce that the input values are integers."
   ]
  },
  {
   "cell_type": "code",
   "execution_count": 25,
   "metadata": {
    "slideshow": {
     "slide_type": "subslide"
    }
   },
   "outputs": [],
   "source": [
    "### begin answer\n",
    "def add_ints(a,b):\n",
    "    \"\"\" Return the sum of two integers. \"\"\"\n",
    "    \n",
    "    assert type(a) is int, \"a should be an integer.\"\n",
    "    assert type(b) is int, \"b should be an integer.\"\n",
    "    \n",
    "    return a + b\n",
    "### end answer\n",
    "    "
   ]
  },
  {
   "cell_type": "markdown",
   "metadata": {
    "slideshow": {
     "slide_type": "slide"
    }
   },
   "source": [
    "3. Write a function to find the minimum value in a list. Your list should be able to contain a mixture of ints, floats and numerical strings (e.g. '8').\n",
    "> Hint: min() can be used to find the minimum value in the list"
   ]
  },
  {
   "cell_type": "code",
   "execution_count": 26,
   "metadata": {
    "slideshow": {
     "slide_type": "subslide"
    }
   },
   "outputs": [],
   "source": [
    "def find_minimum(value_list):\n",
    "    \"\"\" Find the minimum value in a list of diverse types. \"\"\"\n",
    "\n",
    "### begin answer\n",
    "    numerical_list = []\n",
    "    for value in value_list:\n",
    "        \n",
    "        # Check that we have the right input types\n",
    "        assert (type(value) is int) or (type(value) is float) or (type(value) is str)\n",
    "        \n",
    "        numerical_list.append(float(value))\n",
    "        \n",
    "    return min(numerical_list)\n",
    "### end answer"
   ]
  },
  {
   "cell_type": "code",
   "execution_count": 27,
   "metadata": {
    "slideshow": {
     "slide_type": "subslide"
    }
   },
   "outputs": [],
   "source": [
    "# Tests to check the function works\n",
    "assert find_minimum([0,1,2]) == 0\n",
    "assert find_minimum([0,1,'2']) == 0\n",
    "assert find_minimum([0.0,1,'2']) == 0\n",
    "assert find_minimum(['-5',1.35,'20']) == -5"
   ]
  },
  {
   "cell_type": "markdown",
   "metadata": {
    "slideshow": {
     "slide_type": "skip"
    }
   },
   "source": [
    "## Advanced tasks / discussions"
   ]
  },
  {
   "cell_type": "markdown",
   "metadata": {
    "slideshow": {
     "slide_type": "skip"
    }
   },
   "source": [
    "4. If you have a set of nested functions (i.e. A calls B, which internally calls C) where should you put `assert` statements?\n",
    "5. Do a search for 'Exceptions' within Python. How do they compare with `assertions` and when should you use one or the other?"
   ]
  },
  {
   "cell_type": "markdown",
   "metadata": {
    "slideshow": {
     "slide_type": "slide"
    }
   },
   "source": [
    "# Recap\n",
    "This session has covered:\n",
    "- How to break down a problem\n",
    "    - Know *what* you are trying to answer\n",
    "    - Determine if you have all the information you need before starting\n",
    "- Constructing an algorithm\n",
    "    - Multiple ways of solving the problem\n",
    "        - as long as it works, *how* isn't important\n",
    "    - Try to think of pitfalls of your solution\n",
    "- Testing things work\n",
    "    - Use `assert` statements when you *know* something must be true for your code to work."
   ]
  },
  {
   "cell_type": "markdown",
   "metadata": {
    "slideshow": {
     "slide_type": "slide"
    }
   },
   "source": [
    "# Feedback\n",
    "Please say what you did and didn't like about this session!"
   ]
  },
  {
   "cell_type": "code",
   "execution_count": 28,
   "metadata": {},
   "outputs": [
    {
     "data": {
      "text/html": [
       "<div style='width:100%; height:40vh;'> <iframe src=https://www.menti.com/d4sdwwt6er height=100% width=70%></iframe> </div>"
      ],
      "text/plain": [
       "<IPython.core.display.HTML object>"
      ]
     },
     "execution_count": 28,
     "metadata": {},
     "output_type": "execute_result"
    }
   ],
   "source": [
    "positive_feedback = Mentimeter(vote='https://www.menti.com/d4sdwwt6er')\n",
    "positive_feedback.show()"
   ]
  },
  {
   "cell_type": "code",
   "execution_count": 29,
   "metadata": {},
   "outputs": [
    {
     "data": {
      "text/html": [
       "<div style='width:100%; height:40vh;'> <iframe src=https://www.menti.com/ybjs1a5299 height=100% width=70%></iframe> </div>"
      ],
      "text/plain": [
       "<IPython.core.display.HTML object>"
      ]
     },
     "execution_count": 29,
     "metadata": {},
     "output_type": "execute_result"
    }
   ],
   "source": [
    "critical_feedback = Mentimeter(vote='https://www.menti.com/ybjs1a5299')\n",
    "critical_feedback.show()"
   ]
  },
  {
   "cell_type": "markdown",
   "metadata": {
    "slideshow": {
     "slide_type": "skip"
    }
   },
   "source": [
    "# Notes\n",
    "<span id=fn_exception>[1] This is called \"raising and exception\". If you've ever made an error while coding, the resulting 'traceback' gives details of the type of exception that occurred, and which function raised it. Because functions often call other functions internally, the traceback shows the entire 'family tree' of errors.</span>[Return](#rt_exception)\n",
    "\n",
    "<span id=fn_assertions>[2] Assertions are what we are using to test your assignments, so you may have seen their output already!.</span>[Return](#rt_assertions)"
   ]
  },
  {
   "cell_type": "code",
   "execution_count": null,
   "metadata": {},
   "outputs": [],
   "source": []
  }
 ],
 "metadata": {
  "kernelspec": {
   "display_name": "Chem Teaching",
   "language": "python",
   "name": "chem_teaching"
  },
  "language_info": {
   "codemirror_mode": {
    "name": "ipython",
    "version": 3
   },
   "file_extension": ".py",
   "mimetype": "text/x-python",
   "name": "python",
   "nbconvert_exporter": "python",
   "pygments_lexer": "ipython3",
   "version": "3.8.5"
  },
  "toc": {
   "base_numbering": 1,
   "nav_menu": {},
   "number_sections": false,
   "sideBar": true,
   "skip_h1_title": false,
   "title_cell": "Table of Contents",
   "title_sidebar": "Contents",
   "toc_cell": false,
   "toc_position": {},
   "toc_section_display": true,
   "toc_window_display": true
  }
 },
 "nbformat": 4,
 "nbformat_minor": 4
}
